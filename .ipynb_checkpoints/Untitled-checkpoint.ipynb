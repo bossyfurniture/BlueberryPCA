{
 "cells": [
  {
   "cell_type": "code",
   "execution_count": 1,
   "id": "4366ddff",
   "metadata": {},
   "outputs": [
    {
     "name": "stdout",
     "output_type": "stream",
     "text": [
      "   Row#  clonesize  honeybee  bumbles  andrena  osmia  MaxOfUpperTRange  \\\n",
      "0     0       37.5      0.75     0.25     0.25   0.25              86.0   \n",
      "1     1       37.5      0.75     0.25     0.25   0.25              86.0   \n",
      "2     2       37.5      0.75     0.25     0.25   0.25              94.6   \n",
      "3     3       37.5      0.75     0.25     0.25   0.25              94.6   \n",
      "4     4       37.5      0.75     0.25     0.25   0.25              86.0   \n",
      "\n",
      "   MinOfUpperTRange  AverageOfUpperTRange  MaxOfLowerTRange  MinOfLowerTRange  \\\n",
      "0              52.0                  71.9              62.0              30.0   \n",
      "1              52.0                  71.9              62.0              30.0   \n",
      "2              57.2                  79.0              68.2              33.0   \n",
      "3              57.2                  79.0              68.2              33.0   \n",
      "4              52.0                  71.9              62.0              30.0   \n",
      "\n",
      "   AverageOfLowerTRange  RainingDays  AverageRainingDays  fruitset  fruitmass  \\\n",
      "0                  50.8         16.0                0.26  0.410652   0.408159   \n",
      "1                  50.8          1.0                0.10  0.444254   0.425458   \n",
      "2                  55.9         16.0                0.26  0.383787   0.399172   \n",
      "3                  55.9          1.0                0.10  0.407564   0.408789   \n",
      "4                  50.8         24.0                0.39  0.354413   0.382703   \n",
      "\n",
      "       seeds        yield  \n",
      "0  31.678898  3813.165795  \n",
      "1  33.449385  4947.605663  \n",
      "2  30.546306  3866.798965  \n",
      "3  31.562586  4303.943030  \n",
      "4  28.873714  3436.493543  \n",
      "Explained Variance Ratio: [0.34207177 0.27021509]\n"
     ]
    }
   ],
   "source": [
    "# -*- coding: utf-8 -*-\n",
    "\"\"\"\n",
    "Spyder Editor\n",
    "\n",
    "This is a temporary script file.\n",
    "\"\"\"\n",
    "\n",
    "import numpy as np\n",
    "import matplotlib.pyplot as plt\n",
    "import pandas as pd\n",
    "\n",
    "from sklearn.decomposition import PCA\n",
    "from sklearn.preprocessing import StandardScaler\n",
    "\n",
    "from sklearn.model_selection import train_test_split\n",
    "\n",
    "\n",
    "# Read the CSV file\n",
    "df = pd.read_csv('C:/Users/qwerty/Downloads/archive//WildBlueberryPollinationSimulationData.csv')\n",
    "\n",
    "# Perform operations on the DataFrame\n",
    "# For example, print the first few rows\n",
    "print(df.head())\n",
    "df_train, df_test= train_test_split(df, test_size=0.33, random_state=42)\n",
    "\n",
    "# Assuming you have your train and test data stored in X_train and X_test respectively\n",
    "\n",
    "# Standardize the data\n",
    "scaler = StandardScaler()\n",
    "df_train_scaled = scaler.fit_transform(df_train)\n",
    "df_test_scaled = scaler.transform(df_test)\n",
    "\n",
    "# Create a PCA object and specify the number of components to retain\n",
    "n_components = 2  # Specify the number of components you want to retain\n",
    "pca = PCA(n_components=n_components)\n",
    "\n",
    "# Fit the PCA model on the training data\n",
    "pca.fit(df_train_scaled)\n",
    "\n",
    "# Transform the training and test data using the fitted PCA model\n",
    "df_train_pca = pca.transform(df_train_scaled)\n",
    "df_test_pca = pca.transform(df_test_scaled)\n",
    "\n",
    "# Print the explained variance ratio (optional) \n",
    "print(\"Explained Variance Ratio:\", pca.explained_variance_ratio_)"
   ]
  },
  {
   "cell_type": "code",
   "execution_count": null,
   "id": "3e48036c",
   "metadata": {},
   "outputs": [],
   "source": []
  }
 ],
 "metadata": {
  "kernelspec": {
   "display_name": "Python 3 (ipykernel)",
   "language": "python",
   "name": "python3"
  },
  "language_info": {
   "codemirror_mode": {
    "name": "ipython",
    "version": 3
   },
   "file_extension": ".py",
   "mimetype": "text/x-python",
   "name": "python",
   "nbconvert_exporter": "python",
   "pygments_lexer": "ipython3",
   "version": "3.10.9"
  }
 },
 "nbformat": 4,
 "nbformat_minor": 5
}
